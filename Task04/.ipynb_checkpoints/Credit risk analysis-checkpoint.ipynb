{
 "cells": [
  {
   "cell_type": "code",
   "execution_count": 1,
   "id": "811e6d10-df22-43c9-92de-71f8be4e8cd6",
   "metadata": {},
   "outputs": [
    {
     "name": "stdout",
     "output_type": "stream",
     "text": [
      "Shape: (150000, 11)\n",
      "Missing values:\n",
      " SeriousDlqin2yrs                            0\n",
      "RevolvingUtilizationOfUnsecuredLines        0\n",
      "age                                         0\n",
      "NumberOfTime30-59DaysPastDueNotWorse        0\n",
      "DebtRatio                                   0\n",
      "MonthlyIncome                           29731\n",
      "NumberOfOpenCreditLinesAndLoans             0\n",
      "NumberOfTimes90DaysLate                     0\n",
      "NumberRealEstateLoansOrLines                0\n",
      "NumberOfTime60-89DaysPastDueNotWorse        0\n",
      "NumberOfDependents                       3924\n",
      "dtype: int64\n",
      "Target distribution:\n",
      " SeriousDlqin2yrs\n",
      "0    139974\n",
      "1     10026\n",
      "Name: count, dtype: int64\n"
     ]
    }
   ],
   "source": [
    "import pandas as pd\n",
    "\n",
    "df = pd.read_csv('GiveMeSomeCredit/cs-training.csv', index_col=0)  \n",
    "print(\"Shape:\", df.shape)\n",
    "print(\"Missing values:\\n\", df.isnull().sum())\n",
    "print(\"Target distribution:\\n\", df['SeriousDlqin2yrs'].value_counts())"
   ]
  },
  {
   "cell_type": "code",
   "execution_count": 2,
   "id": "cb2194fb-19ed-4632-88c0-d80771024195",
   "metadata": {},
   "outputs": [
    {
     "name": "stdout",
     "output_type": "stream",
     "text": [
      "Missing after fill:\n",
      " SeriousDlqin2yrs                        0\n",
      "RevolvingUtilizationOfUnsecuredLines    0\n",
      "age                                     0\n",
      "NumberOfTime30-59DaysPastDueNotWorse    0\n",
      "DebtRatio                               0\n",
      "MonthlyIncome                           0\n",
      "NumberOfOpenCreditLinesAndLoans         0\n",
      "NumberOfTimes90DaysLate                 0\n",
      "NumberRealEstateLoansOrLines            0\n",
      "NumberOfTime60-89DaysPastDueNotWorse    0\n",
      "NumberOfDependents                      0\n",
      "dtype: int64\n"
     ]
    },
    {
     "name": "stderr",
     "output_type": "stream",
     "text": [
      "C:\\Users\\pc\\AppData\\Local\\Temp\\ipykernel_8252\\113148060.py:1: FutureWarning: A value is trying to be set on a copy of a DataFrame or Series through chained assignment using an inplace method.\n",
      "The behavior will change in pandas 3.0. This inplace method will never work because the intermediate object on which we are setting values always behaves as a copy.\n",
      "\n",
      "For example, when doing 'df[col].method(value, inplace=True)', try using 'df.method({col: value}, inplace=True)' or df[col] = df[col].method(value) instead, to perform the operation inplace on the original object.\n",
      "\n",
      "\n",
      "  df['MonthlyIncome'].fillna(df['MonthlyIncome'].median(), inplace=True)\n",
      "C:\\Users\\pc\\AppData\\Local\\Temp\\ipykernel_8252\\113148060.py:2: FutureWarning: A value is trying to be set on a copy of a DataFrame or Series through chained assignment using an inplace method.\n",
      "The behavior will change in pandas 3.0. This inplace method will never work because the intermediate object on which we are setting values always behaves as a copy.\n",
      "\n",
      "For example, when doing 'df[col].method(value, inplace=True)', try using 'df.method({col: value}, inplace=True)' or df[col] = df[col].method(value) instead, to perform the operation inplace on the original object.\n",
      "\n",
      "\n",
      "  df['NumberOfDependents'].fillna(df['NumberOfDependents'].median(), inplace=True)\n"
     ]
    }
   ],
   "source": [
    "df['MonthlyIncome'].fillna(df['MonthlyIncome'].median(), inplace=True)\n",
    "df['NumberOfDependents'].fillna(df['NumberOfDependents'].median(), inplace=True)\n",
    "\n",
    "print(\"Missing after fill:\\n\", df.isnull().sum())"
   ]
  },
  {
   "cell_type": "code",
   "execution_count": 4,
   "id": "39648331-ce30-4fd7-8fec-98356dedca75",
   "metadata": {},
   "outputs": [
    {
     "name": "stderr",
     "output_type": "stream",
     "text": [
      "\n",
      "[notice] A new release of pip is available: 24.0 -> 25.1.1\n",
      "[notice] To update, run: python.exe -m pip install --upgrade pip\n"
     ]
    }
   ],
   "source": [
    "!pip install imblearn --quiet"
   ]
  },
  {
   "cell_type": "code",
   "execution_count": 5,
   "id": "d84ffd43-ce18-400c-9ac4-88b246d65601",
   "metadata": {},
   "outputs": [
    {
     "name": "stdout",
     "output_type": "stream",
     "text": [
      "Before SMOTE: SeriousDlqin2yrs\n",
      "0    111930\n",
      "1      8070\n",
      "Name: count, dtype: int64\n",
      "After SMOTE: SeriousDlqin2yrs\n",
      "0    111930\n",
      "1    111930\n",
      "Name: count, dtype: int64\n"
     ]
    }
   ],
   "source": [
    "from imblearn.over_sampling import SMOTE\n",
    "from sklearn.model_selection import train_test_split\n",
    "\n",
    "X = df.drop('SeriousDlqin2yrs', axis=1)\n",
    "y = df['SeriousDlqin2yrs']\n",
    "\n",
    "X_train, X_test, y_train, y_test = train_test_split(X, y, test_size=0.2, random_state=42)\n",
    "\n",
    "smote = SMOTE(random_state=42)\n",
    "X_train_resampled, y_train_resampled = smote.fit_resample(X_train, y_train)\n",
    "\n",
    "print(\"Before SMOTE:\", y_train.value_counts())\n",
    "print(\"After SMOTE:\", y_train_resampled.value_counts())\n"
   ]
  },
  {
   "cell_type": "code",
   "execution_count": 6,
   "id": "890f8823-51cb-4b88-ab7d-910efe24e172",
   "metadata": {},
   "outputs": [],
   "source": [
    "import numpy as np\n",
    "\n",
    "X_train_resampled['DebtPerIncome'] = X_train_resampled['DebtRatio'] / (X_train_resampled['MonthlyIncome'] + 1)\n",
    "X_test['DebtPerIncome'] = X_test['DebtRatio'] / (X_test['MonthlyIncome'] + 1)\n",
    "\n",
    "X_train_resampled['AgeGroup'] = pd.cut(X_train_resampled['age'], bins=[0, 30, 50, 100], labels=[0, 1, 2])\n",
    "X_test['AgeGroup'] = pd.cut(X_test['age'], bins=[0, 30, 50, 100], labels=[0, 1, 2])\n",
    "\n",
    "X_train_resampled['TotalLate'] = (\n",
    "    X_train_resampled['NumberOfTime30-59DaysPastDueNotWorse'] +\n",
    "    X_train_resampled['NumberOfTime60-89DaysPastDueNotWorse'] +\n",
    "    X_train_resampled['NumberOfTimes90DaysLate']\n",
    ")\n",
    "X_test['TotalLate'] = (\n",
    "    X_test['NumberOfTime30-59DaysPastDueNotWorse'] +\n",
    "    X_test['NumberOfTime60-89DaysPastDueNotWorse'] +\n",
    "    X_test['NumberOfTimes90DaysLate']\n",
    ")"
   ]
  },
  {
   "cell_type": "code",
   "execution_count": 7,
   "id": "6f9c899d-6158-47fb-827f-00d008dfc79c",
   "metadata": {},
   "outputs": [],
   "source": [
    "from sklearn.preprocessing import StandardScaler\n",
    "\n",
    "scaler = StandardScaler()\n",
    "\n",
    "cols_to_scale = ['RevolvingUtilizationOfUnsecuredLines', 'age', 'DebtRatio',\n",
    "                 'MonthlyIncome', 'NumberOfOpenCreditLinesAndLoans',\n",
    "                 'NumberOfTimes90DaysLate', 'NumberRealEstateLoansOrLines',\n",
    "                 'NumberOfTime30-59DaysPastDueNotWorse', 'NumberOfTime60-89DaysPastDueNotWorse',\n",
    "                 'NumberOfDependents', 'DebtPerIncome', 'TotalLate']\n",
    "\n",
    "X_train_resampled[cols_to_scale] = scaler.fit_transform(X_train_resampled[cols_to_scale])\n",
    "X_test[cols_to_scale] = scaler.transform(X_test[cols_to_scale])"
   ]
  },
  {
   "cell_type": "code",
   "execution_count": 8,
   "id": "8d628eaa-5404-405e-9747-88c0915e744c",
   "metadata": {},
   "outputs": [
    {
     "name": "stdout",
     "output_type": "stream",
     "text": [
      "   DebtPerIncome AgeGroup  TotalLate\n",
      "0      -0.058547        0   -0.11708\n",
      "1      -0.058546        2   -0.11708\n",
      "2      -0.058547        1   -0.11708\n",
      "3      -0.058547        1   -0.11708\n",
      "4      -0.058547        1   -0.11708\n",
      "       DebtPerIncome     TotalLate\n",
      "count   2.238600e+05  2.238600e+05\n",
      "mean    6.982909e-19  1.104569e-17\n",
      "std     1.000002e+00  1.000002e+00\n",
      "min    -5.854747e-02 -1.170798e-01\n",
      "25%    -5.854735e-02 -1.170798e-01\n",
      "50%    -5.854719e-02 -1.170798e-01\n",
      "75%    -5.854648e-02 -7.642783e-02\n",
      "max     1.810809e+02  1.183459e+01\n"
     ]
    }
   ],
   "source": [
    "print(X_train_resampled[['DebtPerIncome', 'AgeGroup', 'TotalLate']].head())\n",
    "print(X_train_resampled.describe()[['DebtPerIncome', 'TotalLate']])"
   ]
  },
  {
   "cell_type": "code",
   "execution_count": 9,
   "id": "eac077da-a329-404d-8ab2-9afd29548ae6",
   "metadata": {},
   "outputs": [
    {
     "name": "stdout",
     "output_type": "stream",
     "text": [
      "Random Forest Results:\n",
      "[[25633  2411]\n",
      " [  992   964]]\n",
      "              precision    recall  f1-score   support\n",
      "\n",
      "           0       0.96      0.91      0.94     28044\n",
      "           1       0.29      0.49      0.36      1956\n",
      "\n",
      "    accuracy                           0.89     30000\n",
      "   macro avg       0.62      0.70      0.65     30000\n",
      "weighted avg       0.92      0.89      0.90     30000\n",
      "\n",
      "ROC-AUC Score: 0.8280018140497302\n"
     ]
    }
   ],
   "source": [
    "from sklearn.ensemble import RandomForestClassifier\n",
    "from sklearn.metrics import classification_report, confusion_matrix, roc_auc_score\n",
    "\n",
    "rf = RandomForestClassifier(random_state=42)\n",
    "rf.fit(X_train_resampled, y_train_resampled)\n",
    "\n",
    "y_pred_rf = rf.predict(X_test)\n",
    "y_proba_rf = rf.predict_proba(X_test)[:, 1]\n",
    "\n",
    "print(\"Random Forest Results:\")\n",
    "print(confusion_matrix(y_test, y_pred_rf))\n",
    "print(classification_report(y_test, y_pred_rf))\n",
    "print(\"ROC-AUC Score:\", roc_auc_score(y_test, y_proba_rf))"
   ]
  },
  {
   "cell_type": "code",
   "execution_count": 11,
   "id": "3977417b-c74e-4197-8153-f8e676c5276a",
   "metadata": {
    "scrolled": true
   },
   "outputs": [
    {
     "name": "stderr",
     "output_type": "stream",
     "text": [
      "C:\\Users\\pc\\AppData\\Local\\Temp\\ipykernel_8252\\3659902082.py:1: FutureWarning: A value is trying to be set on a copy of a DataFrame or Series through chained assignment using an inplace method.\n",
      "The behavior will change in pandas 3.0. This inplace method will never work because the intermediate object on which we are setting values always behaves as a copy.\n",
      "\n",
      "For example, when doing 'df[col].method(value, inplace=True)', try using 'df.method({col: value}, inplace=True)' or df[col] = df[col].method(value) instead, to perform the operation inplace on the original object.\n",
      "\n",
      "\n",
      "  X_train_resampled['DebtPerIncome'].replace([np.inf, -np.inf], np.nan, inplace=True)\n",
      "C:\\Users\\pc\\AppData\\Local\\Temp\\ipykernel_8252\\3659902082.py:2: FutureWarning: A value is trying to be set on a copy of a DataFrame or Series through chained assignment using an inplace method.\n",
      "The behavior will change in pandas 3.0. This inplace method will never work because the intermediate object on which we are setting values always behaves as a copy.\n",
      "\n",
      "For example, when doing 'df[col].method(value, inplace=True)', try using 'df.method({col: value}, inplace=True)' or df[col] = df[col].method(value) instead, to perform the operation inplace on the original object.\n",
      "\n",
      "\n",
      "  X_test['DebtPerIncome'].replace([np.inf, -np.inf], np.nan, inplace=True)\n"
     ]
    }
   ],
   "source": [
    "X_train_resampled['DebtPerIncome'].replace([np.inf, -np.inf], np.nan, inplace=True)\n",
    "X_test['DebtPerIncome'].replace([np.inf, -np.inf], np.nan, inplace=True)\n",
    "\n",
    "X_train_resampled.fillna(0, inplace=True)\n",
    "X_test.fillna(0, inplace=True)"
   ]
  },
  {
   "cell_type": "code",
   "execution_count": 12,
   "id": "370a2786-c7ff-439f-a9b5-9892ea1af8a5",
   "metadata": {},
   "outputs": [
    {
     "name": "stdout",
     "output_type": "stream",
     "text": [
      "Gradient Boosting Results:\n",
      "[[24960  3084]\n",
      " [  800  1156]]\n",
      "              precision    recall  f1-score   support\n",
      "\n",
      "           0       0.97      0.89      0.93     28044\n",
      "           1       0.27      0.59      0.37      1956\n",
      "\n",
      "    accuracy                           0.87     30000\n",
      "   macro avg       0.62      0.74      0.65     30000\n",
      "weighted avg       0.92      0.87      0.89     30000\n",
      "\n",
      "ROC-AUC Score: 0.8407389104296813\n"
     ]
    }
   ],
   "source": [
    "from sklearn.ensemble import GradientBoostingClassifier\n",
    "\n",
    "gb = GradientBoostingClassifier(random_state=42)\n",
    "gb.fit(X_train_resampled, y_train_resampled)\n",
    "\n",
    "y_pred_gb = gb.predict(X_test)\n",
    "y_proba_gb = gb.predict_proba(X_test)[:, 1]\n",
    "\n",
    "print(\"Gradient Boosting Results:\")\n",
    "print(confusion_matrix(y_test, y_pred_gb))\n",
    "print(classification_report(y_test, y_pred_gb))\n",
    "print(\"ROC-AUC Score:\", roc_auc_score(y_test, y_proba_gb))"
   ]
  },
  {
   "cell_type": "code",
   "execution_count": 13,
   "id": "42f67e15-46f1-4241-a412-7c4dc7e52376",
   "metadata": {},
   "outputs": [
    {
     "name": "stderr",
     "output_type": "stream",
     "text": [
      "\n",
      "[notice] A new release of pip is available: 24.0 -> 25.1.1\n",
      "[notice] To update, run: python.exe -m pip install --upgrade pip\n"
     ]
    }
   ],
   "source": [
    "!pip install xgboost --quiet"
   ]
  },
  {
   "cell_type": "code",
   "execution_count": 15,
   "id": "afad0598-a72a-4357-8438-1a094c0c8c26",
   "metadata": {},
   "outputs": [],
   "source": [
    "X_train_resampled['AgeGroup'] = X_train_resampled['AgeGroup'].astype(int)\n",
    "X_test['AgeGroup'] = X_test['AgeGroup'].astype(int)"
   ]
  },
  {
   "cell_type": "code",
   "execution_count": 16,
   "id": "051f5c44-0f27-44e6-ba5c-bfddd1f2c784",
   "metadata": {},
   "outputs": [
    {
     "name": "stderr",
     "output_type": "stream",
     "text": [
      "C:\\Users\\pc\\AppData\\Local\\Programs\\Python\\Python311\\Lib\\site-packages\\xgboost\\training.py:183: UserWarning: [10:45:18] WARNING: C:\\actions-runner\\_work\\xgboost\\xgboost\\src\\learner.cc:738: \n",
      "Parameters: { \"use_label_encoder\" } are not used.\n",
      "\n",
      "  bst.update(dtrain, iteration=i, fobj=obj)\n"
     ]
    },
    {
     "name": "stdout",
     "output_type": "stream",
     "text": [
      "XGBoost Results:\n",
      "[[25324  2720]\n",
      " [  980   976]]\n",
      "              precision    recall  f1-score   support\n",
      "\n",
      "           0       0.96      0.90      0.93     28044\n",
      "           1       0.26      0.50      0.35      1956\n",
      "\n",
      "    accuracy                           0.88     30000\n",
      "   macro avg       0.61      0.70      0.64     30000\n",
      "weighted avg       0.92      0.88      0.89     30000\n",
      "\n",
      "ROC-AUC Score: 0.8214542864134916\n"
     ]
    }
   ],
   "source": [
    "from xgboost import XGBClassifier\n",
    "\n",
    "xgb = XGBClassifier(use_label_encoder=False, eval_metric='logloss', random_state=42)\n",
    "xgb.fit(X_train_resampled, y_train_resampled)\n",
    "\n",
    "y_pred_xgb = xgb.predict(X_test)\n",
    "y_proba_xgb = xgb.predict_proba(X_test)[:, 1]\n",
    "\n",
    "print(\"XGBoost Results:\")\n",
    "print(confusion_matrix(y_test, y_pred_xgb))\n",
    "print(classification_report(y_test, y_pred_xgb))\n",
    "print(\"ROC-AUC Score:\", roc_auc_score(y_test, y_proba_xgb))"
   ]
  },
  {
   "cell_type": "code",
   "execution_count": null,
   "id": "3bf4439d-18c9-437a-ae2c-a73ef0e5b7bc",
   "metadata": {},
   "outputs": [],
   "source": []
  },
  {
   "cell_type": "code",
   "execution_count": null,
   "id": "5afd6ff7-d121-4025-b4cb-7cd4d38ca602",
   "metadata": {},
   "outputs": [],
   "source": []
  }
 ],
 "metadata": {
  "kernelspec": {
   "display_name": "Python 3 (ipykernel)",
   "language": "python",
   "name": "python3"
  },
  "language_info": {
   "codemirror_mode": {
    "name": "ipython",
    "version": 3
   },
   "file_extension": ".py",
   "mimetype": "text/x-python",
   "name": "python",
   "nbconvert_exporter": "python",
   "pygments_lexer": "ipython3",
   "version": "3.11.9"
  }
 },
 "nbformat": 4,
 "nbformat_minor": 5
}
